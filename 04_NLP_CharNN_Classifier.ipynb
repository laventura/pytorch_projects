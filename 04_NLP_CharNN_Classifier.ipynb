{
  "nbformat": 4,
  "nbformat_minor": 0,
  "metadata": {
    "colab": {
      "provenance": [],
      "authorship_tag": "ABX9TyNBtiHQDhLBRv5sbEmZAEAc",
      "include_colab_link": true
    },
    "kernelspec": {
      "name": "python3",
      "display_name": "Python 3"
    },
    "language_info": {
      "name": "python"
    }
  },
  "cells": [
    {
      "cell_type": "markdown",
      "metadata": {
        "id": "view-in-github",
        "colab_type": "text"
      },
      "source": [
        "<a href=\"https://colab.research.google.com/github/laventura/pytorch_projects/blob/main/04_NLP_CharNN_Classifier.ipynb\" target=\"_parent\"><img src=\"https://colab.research.google.com/assets/colab-badge.svg\" alt=\"Open In Colab\"/></a>"
      ]
    },
    {
      "cell_type": "code",
      "execution_count": null,
      "metadata": {
        "id": "KXYVRfeNUjgh"
      },
      "outputs": [],
      "source": []
    },
    {
      "cell_type": "markdown",
      "source": [
        "# NLP from Scratch - Name classifier based on CharRNN\n",
        "\n",
        "We will be building and training a basic character-level Recurrent Neural Network (RNN) to classify words. This tutorial, along with two other Natural Language Processing (NLP) “from scratch” tutorials NLP From Scratch: Generating Names with a Character-Level RNN and NLP From Scratch: Translation with a Sequence to Sequence Network and Attention, show how to preprocess data to model NLP. In particular these tutorials do not use many of the convenience functions of torchtext, so you can see how preprocessing to model NLP works at a low level.\n",
        "\n",
        "A character-level RNN reads words as a series of characters - outputting a prediction and “hidden state” at each step, feeding its previous hidden state into each next step. We take the final prediction to be the output, i.e. which class the word belongs to.\n",
        "\n",
        "Specifically, we’ll train on a few thousand surnames from 18 languages of origin, and predict which language a name is from based on the spelling:\n",
        "\n",
        "```\n",
        "$ python predict.py Hinton\n",
        "(-0.47) Scottish\n",
        "(-1.52) English\n",
        "(-3.57) Irish\n",
        "\n",
        "$ python predict.py Schmidhuber\n",
        "(-0.19) German\n",
        "(-2.48) Czech\n",
        "(-2.68) Dutch\n",
        "```\n"
      ],
      "metadata": {
        "id": "AQ65WWNfUzaQ"
      }
    },
    {
      "cell_type": "code",
      "source": [
        "## Download dataset\n",
        "import requests\n",
        "import zipfile\n",
        "import os\n"
      ],
      "metadata": {
        "id": "0rICXjVeU8Sz"
      },
      "execution_count": 1,
      "outputs": []
    },
    {
      "cell_type": "code",
      "source": [
        "def download_and_unzip_data(url, target_dir='.'):\n",
        "    # Create the target directory if it doesn't exist\n",
        "    os.makedirs(target_dir, exist_ok=True)\n",
        "\n",
        "    # Download the file\n",
        "    print(f\"Downloading URL: {url}\")\n",
        "    response = requests.get(url)\n",
        "    if response.status_code == 200:\n",
        "        # Get the filename from the URL\n",
        "        filename = url.split('/')[-1]\n",
        "        filepath = os.path.join(target_dir, filename)\n",
        "\n",
        "        # Save the file\n",
        "        with open(filepath, 'wb') as f:\n",
        "            f.write(response.content)\n",
        "        print(f\"Downloaded {filename}\")\n",
        "\n",
        "        # Unzip the file\n",
        "        with zipfile.ZipFile(filepath, 'r') as zip_ref:\n",
        "            zip_ref.extractall(target_dir)\n",
        "        print(f\"Extracted contents to {target_dir}\")\n",
        "\n",
        "        # Remove the zip file\n",
        "        os.remove(filepath)\n",
        "        print(f\"Removed {filename}\")\n",
        "    else:\n",
        "        print(f\"Failed to download the file. Status code: {response.status_code}\")\n"
      ],
      "metadata": {
        "id": "cvkrvj2FWb4R"
      },
      "execution_count": 2,
      "outputs": []
    },
    {
      "cell_type": "code",
      "source": [
        "dataset_url = \"https://download.pytorch.org/tutorial/data.zip\"\n",
        "download_and_unzip_data(dataset_url)"
      ],
      "metadata": {
        "colab": {
          "base_uri": "https://localhost:8080/"
        },
        "id": "WXCrgneSWlac",
        "outputId": "b85c40d3-e7cc-4ebd-8449-fb1684287c93"
      },
      "execution_count": 3,
      "outputs": [
        {
          "output_type": "stream",
          "name": "stdout",
          "text": [
            "Downloading URL: https://download.pytorch.org/tutorial/data.zip\n",
            "Downloaded data.zip\n",
            "Extracted contents to .\n",
            "Removed data.zip\n"
          ]
        }
      ]
    },
    {
      "cell_type": "code",
      "source": [
        "from io import open\n",
        "import glob\n",
        "import os\n",
        "\n",
        "import unicodedata\n",
        "import string\n",
        "\n",
        "def findFiles(path): return glob.glob(path)\n"
      ],
      "metadata": {
        "id": "j1kgzMB5WryP"
      },
      "execution_count": 4,
      "outputs": []
    },
    {
      "cell_type": "code",
      "source": [
        "print(findFiles('data/names/*.txt'))"
      ],
      "metadata": {
        "colab": {
          "base_uri": "https://localhost:8080/"
        },
        "id": "gTfyS2EfW5-5",
        "outputId": "262b8bee-7e43-413c-959e-aa59cda0775e"
      },
      "execution_count": 5,
      "outputs": [
        {
          "output_type": "stream",
          "name": "stdout",
          "text": [
            "['data/names/Dutch.txt', 'data/names/Korean.txt', 'data/names/Scottish.txt', 'data/names/German.txt', 'data/names/Spanish.txt', 'data/names/Vietnamese.txt', 'data/names/Chinese.txt', 'data/names/Arabic.txt', 'data/names/Russian.txt', 'data/names/Polish.txt', 'data/names/Greek.txt', 'data/names/French.txt', 'data/names/Italian.txt', 'data/names/Portuguese.txt', 'data/names/Japanese.txt', 'data/names/Czech.txt', 'data/names/Irish.txt', 'data/names/English.txt']\n"
          ]
        }
      ]
    },
    {
      "cell_type": "code",
      "source": [
        "## pre-processing\n",
        "all_letters = string.ascii_letters + \" .,;'\"\n",
        "n_letters = len(all_letters)\n",
        "print(n_letters)"
      ],
      "metadata": {
        "colab": {
          "base_uri": "https://localhost:8080/"
        },
        "id": "IIz1KLgPW77V",
        "outputId": "a187cd95-3595-4597-bb6b-96d2b6298a29"
      },
      "execution_count": 15,
      "outputs": [
        {
          "output_type": "stream",
          "name": "stdout",
          "text": [
            "57\n"
          ]
        }
      ]
    },
    {
      "cell_type": "code",
      "source": [
        "# Turn a Unicode string to plain ASCII, thanks to https://stackoverflow.com/a/518232/2809427\n",
        "def unicodeToAscii(s):\n",
        "    return ''.join(\n",
        "        c for c in unicodedata.normalize('NFD', s)\n",
        "        if unicodedata.category(c) != 'Mn'\n",
        "        and c in all_letters\n",
        "    )\n",
        "\n",
        "print(unicodeToAscii('Ślusàrski'))"
      ],
      "metadata": {
        "colab": {
          "base_uri": "https://localhost:8080/"
        },
        "id": "aa8ja-AXXFne",
        "outputId": "f561dc8d-92a2-4748-d836-0006e601abb7"
      },
      "execution_count": 16,
      "outputs": [
        {
          "output_type": "stream",
          "name": "stdout",
          "text": [
            "Slusarski\n"
          ]
        }
      ]
    },
    {
      "cell_type": "code",
      "source": [
        "## Build the category_lines dictionary, a list of names per language\n",
        "category_lines = {}\n",
        "all_categories = []\n",
        "\n",
        "# Read a file and split into lines\n",
        "def readLines(filename):\n",
        "    lines = open(filename, encoding='utf-8').read().strip().split('\\n')\n",
        "    return [unicodeToAscii(line) for line in lines]"
      ],
      "metadata": {
        "id": "R4IC7nk9XJMp"
      },
      "execution_count": 17,
      "outputs": []
    },
    {
      "cell_type": "code",
      "source": [
        "for filename in findFiles('data/names/*.txt'):\n",
        "    category = os.path.basename(filename).replace('.txt', '')\n",
        "    print(f\"adding category: {category}\")\n",
        "    all_categories.append(category)\n",
        "    lines = readLines(filename)\n",
        "    category_lines[category] = lines\n",
        "\n",
        "n_categories = len(all_categories)\n",
        "print(f\"got {n_categories} categories\")"
      ],
      "metadata": {
        "colab": {
          "base_uri": "https://localhost:8080/"
        },
        "id": "UOc5GcShXVl-",
        "outputId": "7e83a1d6-979c-4813-a3cf-3a78ff7d5107"
      },
      "execution_count": 18,
      "outputs": [
        {
          "output_type": "stream",
          "name": "stdout",
          "text": [
            "adding category: Dutch\n",
            "adding category: Korean\n",
            "adding category: Scottish\n",
            "adding category: German\n",
            "adding category: Spanish\n",
            "adding category: Vietnamese\n",
            "adding category: Chinese\n",
            "adding category: Arabic\n",
            "adding category: Russian\n",
            "adding category: Polish\n",
            "adding category: Greek\n",
            "adding category: French\n",
            "adding category: Italian\n",
            "adding category: Portuguese\n",
            "adding category: Japanese\n",
            "adding category: Czech\n",
            "adding category: Irish\n",
            "adding category: English\n",
            "got 18 categories\n"
          ]
        }
      ]
    },
    {
      "cell_type": "code",
      "source": [
        "# quick check\n",
        "print(category_lines['Italian'][:5])"
      ],
      "metadata": {
        "colab": {
          "base_uri": "https://localhost:8080/"
        },
        "id": "OW5exUmNYGq5",
        "outputId": "fafe35fb-ccb6-45a3-e191-0ff759ca02ce"
      },
      "execution_count": 19,
      "outputs": [
        {
          "output_type": "stream",
          "name": "stdout",
          "text": [
            "['Abandonato', 'Abatangelo', 'Abatantuono', 'Abate', 'Abategiovanni']\n"
          ]
        }
      ]
    },
    {
      "cell_type": "markdown",
      "source": [
        "## Turn Names to Tensors\n",
        "\n",
        "Now that we have all the names organized, we need to turn them into Tensors to make any use of them.\n",
        "\n",
        "To represent a single letter, we use a “one-hot vector” of size `<1 x n_letters>`. A one-hot vector is filled with 0s except for a 1 at index of the current letter, e.g. `\"b\" = <0 1 0 0 0 ...>`.\n",
        "\n",
        "To make a word we join a bunch of those into a 2D matrix `<line_length x 1 x n_letters>`.\n",
        "\n",
        "That extra 1 dimension is because PyTorch assumes everything is in batches - we’re just using a batch size of 1 here."
      ],
      "metadata": {
        "id": "qOeRF1UkYSjs"
      }
    },
    {
      "cell_type": "code",
      "source": [
        "import torch\n",
        "\n",
        "# find letter index from all_letters, e.g. \"a\" = 0, \"b\" = 1, c = \"2\", ...\n",
        "\n",
        "def letterToIndex(letter):\n",
        "    return all_letters.find(letter)\n",
        "\n",
        "# letter to 1-hot vector\n",
        "def letterToTensor(letter):\n",
        "    tensor = torch.zeros(1, n_letters)\n",
        "    tensor[0][letterToIndex(letter)] = 1\n",
        "    return tensor\n",
        "\n",
        "# turn a line into <line_length x 1 x n_letters>, or an array of one-hot vectors\n",
        "def lineToTensor(line):\n",
        "    tensor = torch.zeros(len(line), 1, n_letters)\n",
        "    for ln, letter in enumerate(line):\n",
        "        tensor[ln][0][letterToIndex(letter)] = 1\n",
        "    return tensor\n"
      ],
      "metadata": {
        "id": "MO0wKxYVYPRR"
      },
      "execution_count": 20,
      "outputs": []
    },
    {
      "cell_type": "code",
      "source": [
        "# quick check\n",
        "print(letterToTensor('K'))\n",
        "print(lineToTensor('Jones').size())"
      ],
      "metadata": {
        "colab": {
          "base_uri": "https://localhost:8080/"
        },
        "id": "Ewv4spE8Z09x",
        "outputId": "c1e413bd-35bb-46f9-9661-d99628d05a97"
      },
      "execution_count": 21,
      "outputs": [
        {
          "output_type": "stream",
          "name": "stdout",
          "text": [
            "tensor([[0., 0., 0., 0., 0., 0., 0., 0., 0., 0., 0., 0., 0., 0., 0., 0., 0., 0.,\n",
            "         0., 0., 0., 0., 0., 0., 0., 0., 0., 0., 0., 0., 0., 0., 0., 0., 0., 0.,\n",
            "         1., 0., 0., 0., 0., 0., 0., 0., 0., 0., 0., 0., 0., 0., 0., 0., 0., 0.,\n",
            "         0., 0., 0.]])\n",
            "torch.Size([5, 1, 57])\n"
          ]
        }
      ]
    },
    {
      "cell_type": "markdown",
      "source": [
        "## Create a RNN\n",
        "\n",
        "Before autograd, creating a recurrent neural network in Torch involved cloning the parameters of a layer over several timesteps. The layers held hidden state and gradients which are now entirely handled by the graph itself. This means you can implement a RNN in a very “pure” way, as regular feed-forward layers.\n",
        "\n",
        "This RNN module implements a “vanilla RNN” an is just 3 linear layers which operate on an input and hidden state, with a `LogSoftmax` layer after the output."
      ],
      "metadata": {
        "id": "A6biyR7NakKd"
      }
    },
    {
      "cell_type": "code",
      "source": [
        "import torch.nn as nn\n",
        "import torch.nn.functional as F\n",
        "\n",
        "class RNN(nn.Module):\n",
        "    def __init__(self, input_size, hidden_size, output_size):\n",
        "        super(RNN, self).__init__()\n",
        "\n",
        "        self.hidden_size = hidden_size\n",
        "\n",
        "        self.i2h = nn.Linear(input_size, hidden_size)\n",
        "        self.h2h = nn.Linear(hidden_size, hidden_size)\n",
        "        self.h2o = nn.Linear(hidden_size, output_size)\n",
        "        self.softmax = nn.LogSoftmax(dim=1)\n",
        "\n",
        "    def forward(self, input, hidden):\n",
        "        hidden = F.tanh(self.i2h(input) + self.h2h(hidden))\n",
        "        output = self.h2o(hidden)\n",
        "        output = self.softmax(output)\n",
        "        return output, hidden\n",
        "\n",
        "    def initHidden(self):\n",
        "        return torch.zeros(1, self.hidden_size)"
      ],
      "metadata": {
        "id": "KNF0xKhVZ_n2"
      },
      "execution_count": 28,
      "outputs": []
    },
    {
      "cell_type": "code",
      "source": [
        "# quick init\n",
        "n_hidden = 128\n",
        "rnn = RNN(n_letters, n_hidden, n_categories)\n",
        "print(rnn)"
      ],
      "metadata": {
        "colab": {
          "base_uri": "https://localhost:8080/"
        },
        "id": "3H0Kc7eDb9Bm",
        "outputId": "f14eeff1-1796-484f-864e-2d8581607fcb"
      },
      "execution_count": 29,
      "outputs": [
        {
          "output_type": "stream",
          "name": "stdout",
          "text": [
            "RNN(\n",
            "  (i2h): Linear(in_features=57, out_features=128, bias=True)\n",
            "  (h2h): Linear(in_features=128, out_features=128, bias=True)\n",
            "  (h2o): Linear(in_features=128, out_features=18, bias=True)\n",
            "  (softmax): LogSoftmax(dim=1)\n",
            ")\n"
          ]
        }
      ]
    },
    {
      "cell_type": "code",
      "source": [
        "# quick check\n",
        "input = letterToTensor('G')\n",
        "hidden = torch.zeros(1, n_hidden)\n",
        "output, next_hidden = rnn(input, hidden)\n",
        "print(output)"
      ],
      "metadata": {
        "colab": {
          "base_uri": "https://localhost:8080/"
        },
        "id": "eMBKLYa5cHEs",
        "outputId": "774c6ba2-69d0-465b-a64a-060f1198e0ec"
      },
      "execution_count": 30,
      "outputs": [
        {
          "output_type": "stream",
          "name": "stdout",
          "text": [
            "tensor([[-2.9024, -2.8363, -2.9423, -2.8121, -2.7368, -2.8421, -2.9887, -2.9646,\n",
            "         -2.9348, -2.9900, -2.6950, -2.9385, -2.9403, -2.8838, -2.9657, -2.8698,\n",
            "         -2.9684, -2.8766]], grad_fn=<LogSoftmaxBackward0>)\n"
          ]
        }
      ]
    },
    {
      "cell_type": "code",
      "source": [
        "# test with a name\n",
        "input = lineToTensor('Ganesha')\n",
        "hidden = torch.zeros(1, n_hidden)\n",
        "output, next_hidden = rnn(input[0], hidden)\n",
        "print(output)\n",
        "print(output.size())  # size is (1, n_categories)"
      ],
      "metadata": {
        "colab": {
          "base_uri": "https://localhost:8080/"
        },
        "id": "-HfpUHPJeSvt",
        "outputId": "ca22c87e-7dcd-42b2-8fc2-eacacc4ba604"
      },
      "execution_count": 33,
      "outputs": [
        {
          "output_type": "stream",
          "name": "stdout",
          "text": [
            "tensor([[-2.9024, -2.8363, -2.9423, -2.8121, -2.7368, -2.8421, -2.9887, -2.9646,\n",
            "         -2.9348, -2.9900, -2.6950, -2.9385, -2.9403, -2.8838, -2.9657, -2.8698,\n",
            "         -2.9684, -2.8766]], grad_fn=<LogSoftmaxBackward0>)\n",
            "torch.Size([1, 18])\n"
          ]
        }
      ]
    },
    {
      "cell_type": "markdown",
      "source": [
        "## Training\n",
        "\n",
        "Before going into training we should make a few helper functions. The first is to interpret the output of the network, which we know to be a likelihood of each category. We can use `Tensor.topk` to get the index of the greatest value:"
      ],
      "metadata": {
        "id": "KjWtKyoBfBoL"
      }
    },
    {
      "cell_type": "code",
      "source": [
        "def categoryFromOutput(output):\n",
        "    top_n, top_i = output.topk(1)\n",
        "    category_i = top_i[0].item()\n",
        "    return all_categories[category_i], category_i\n"
      ],
      "metadata": {
        "id": "dUmotD3Ues9f"
      },
      "execution_count": 34,
      "outputs": []
    },
    {
      "cell_type": "code",
      "source": [
        "# quick test\n",
        "print(categoryFromOutput(output))"
      ],
      "metadata": {
        "colab": {
          "base_uri": "https://localhost:8080/"
        },
        "id": "YpjB8puMfdLG",
        "outputId": "6973a1ce-2b81-4c24-e275-665a44a34299"
      },
      "execution_count": 35,
      "outputs": [
        {
          "output_type": "stream",
          "name": "stdout",
          "text": [
            "('Greek', 10)\n"
          ]
        }
      ]
    },
    {
      "cell_type": "code",
      "source": [
        "import random\n",
        "\n",
        "# quick way to get a training example\n",
        "def randomChoice(l):\n",
        "    return l[random.randint(0, len(l)-1)]\n",
        "\n",
        "def randomTrainingExample():\n",
        "    category = randomChoice(all_categories)\n",
        "    line = randomChoice(category_lines[category])\n",
        "    category_tensor = torch.tensor([all_categories.index(category)], dtype=torch.long)\n",
        "    line_tensor = lineToTensor(line)\n",
        "    return category, line, category_tensor, line_tensor\n",
        "\n",
        "for i in range(10):\n",
        "    cat, line, cat_tensor, line_tensor = randomTrainingExample()\n",
        "    print(f\"category {cat:<15} - line {line}\")"
      ],
      "metadata": {
        "colab": {
          "base_uri": "https://localhost:8080/"
        },
        "id": "KD5h-ouSfidh",
        "outputId": "74f173e2-9b82-47f3-cfcb-6d29280e2d99"
      },
      "execution_count": 37,
      "outputs": [
        {
          "output_type": "stream",
          "name": "stdout",
          "text": [
            "category French          - line Bonheur\n",
            "category Japanese        - line Chino\n",
            "category Arabic          - line Atiyeh\n",
            "category German          - line Hartmann\n",
            "category Vietnamese      - line An\n",
            "category Russian         - line Dzhanibekov\n",
            "category English         - line Bridges\n",
            "category Italian         - line Fiore\n",
            "category French          - line Lebeau\n",
            "category Portuguese      - line Silva\n"
          ]
        }
      ]
    },
    {
      "cell_type": "markdown",
      "source": [
        "### Training the network\n",
        "\n",
        "Now all it takes to train this network is show it a bunch of examples, have it make guesses, and tell it if it’s wrong.\n",
        "\n",
        "For the loss function `nn.NLLLoss` is appropriate, since the last layer of the RNN is `nn.LogSoftmax`.\n",
        "\n",
        "`criterion = nn.NLLLoss()`\n",
        "\n",
        "Each loop of training will:\n",
        "\n",
        "    Create input and target tensors\n",
        "\n",
        "    Create a zeroed initial hidden state\n",
        "\n",
        "    Read each letter in and\n",
        "\n",
        "        Keep hidden state for next letter\n",
        "\n",
        "    Compare final output to target\n",
        "\n",
        "    Back-propagate\n",
        "\n",
        "    Return the output and loss\n"
      ],
      "metadata": {
        "id": "zGEZpryX2ZmT"
      }
    },
    {
      "cell_type": "code",
      "source": [
        "learning_rate = 0.005\n",
        "\n",
        "# criterion\n",
        "criterion = nn.NLLLoss()\n",
        "\n",
        "def train(category_tensor, line_tensor):\n",
        "  hidden = rnn.initHidden()\n",
        "\n",
        "  rnn.zero_grad()\n",
        "\n",
        "  for i in range(line_tensor.size()[0]):\n",
        "    output, hidden = rnn(line_tensor[i], hidden)\n",
        "\n",
        "\n",
        "  loss = criterion(output, category_tensor)\n",
        "  loss.backward()\n",
        "\n",
        "  # add param gradients\n",
        "  for p in rnn.parameters():\n",
        "    p.data.add_(p.grad.data, alpha=-learning_rate)\n",
        "\n",
        "  return output, loss.item()"
      ],
      "metadata": {
        "id": "ZplvFlUi2HuZ"
      },
      "execution_count": 38,
      "outputs": []
    },
    {
      "cell_type": "code",
      "source": [
        "import time\n",
        "import math\n",
        "\n",
        "n_iters = 100_000\n",
        "print_every = 5000\n",
        "plot_every = 1000\n",
        "\n",
        "# keep track of losses for plotting\n",
        "current_loss = 0\n",
        "all_losses = []\n",
        "\n",
        "def timeSince(since):\n",
        "  now = time.time()\n",
        "  s = now - since\n",
        "  m = math.floor(s / 60)\n",
        "  s -= m * 60\n",
        "  return '%d %ds' % (m, s)\n"
      ],
      "metadata": {
        "id": "zdymhLBC3nrZ"
      },
      "execution_count": 39,
      "outputs": []
    },
    {
      "cell_type": "code",
      "source": [
        "start = time.time()\n",
        "for i in range(1, n_iters +1):\n",
        "  category, line, category_tensor, line_tensor = randomTrainingExample()\n",
        "  output, loss = train(category_tensor, line_tensor)\n",
        "  current_loss += loss\n",
        "\n",
        "  # print\n",
        "  if i % print_every == 0:\n",
        "    guess, guess_i = categoryFromOutput(output)\n",
        "    correct = '✅' if guess == category else '❌ (%s)' % category\n",
        "    print(f\"{i:,} {timeSince(start):<10} - {loss:.4f} - {line:<12} / {guess:<12} {correct}\")\n",
        "\n",
        "  # add current loss\n",
        "  if i % plot_every == 0:\n",
        "    all_losses.append(current_loss / plot_every)\n",
        "    current_loss = 0"
      ],
      "metadata": {
        "colab": {
          "base_uri": "https://localhost:8080/"
        },
        "id": "OmNXbw5e4Fa3",
        "outputId": "7b20c91e-5d13-4536-95ad-9e69504e8c65"
      },
      "execution_count": 41,
      "outputs": [
        {
          "output_type": "stream",
          "name": "stdout",
          "text": [
            "5,000 0 8s       - 2.3619 - Voigt        / French       ❌ (German)\n",
            "10,000 0 18s      - 2.4875 - Huffman      / English      ❌ (German)\n",
            "15,000 0 28s      - 2.2378 - Gibson       / French       ❌ (Scottish)\n",
            "20,000 0 37s      - 0.2167 - Haenraats    / Dutch        ✅\n",
            "25,000 0 46s      - 0.1261 - Quirke       / Irish        ✅\n",
            "30,000 0 56s      - 0.1719 - Wojda        / Polish       ✅\n",
            "35,000 1 5s       - 0.1652 - Solomon      / French       ✅\n",
            "40,000 1 14s      - 0.1663 - Rosario      / Portuguese   ✅\n",
            "45,000 1 24s      - 1.0685 - Manus        / Irish        ✅\n",
            "50,000 1 34s      - 0.2988 - Sarraf       / Arabic       ✅\n",
            "55,000 1 43s      - 0.1086 - Rorris       / Greek        ✅\n",
            "60,000 1 52s      - 1.2393 - Devin        / Russian      ❌ (Irish)\n",
            "65,000 2 10s      - 0.0602 - Nunes        / Portuguese   ✅\n",
            "70,000 2 20s      - 0.0241 - Shalhoub     / Arabic       ✅\n",
            "75,000 2 30s      - 1.6508 - Otsuka       / Czech        ❌ (Japanese)\n",
            "80,000 2 40s      - 0.0808 - Damhain      / Irish        ✅\n",
            "85,000 2 50s      - 0.0404 - Bang         / Korean       ✅\n",
            "90,000 2 59s      - 4.1003 - Magee        / French       ❌ (English)\n",
            "95,000 3 8s       - 0.3160 - Halin        / Russian      ✅\n",
            "100,000 3 17s      - 1.2602 - Chaput       / French       ✅\n"
          ]
        }
      ]
    },
    {
      "cell_type": "code",
      "source": [
        "# plot results\n",
        "import matplotlib.pyplot as plt\n",
        "\n",
        "plt.figure()\n",
        "plt.plot(all_losses)"
      ],
      "metadata": {
        "colab": {
          "base_uri": "https://localhost:8080/",
          "height": 448
        },
        "id": "kT2xomM95oat",
        "outputId": "bf4aa669-a633-4bf7-ca10-6dd72a508f3e"
      },
      "execution_count": 42,
      "outputs": [
        {
          "output_type": "execute_result",
          "data": {
            "text/plain": [
              "[<matplotlib.lines.Line2D at 0x7ceec4006560>]"
            ]
          },
          "metadata": {},
          "execution_count": 42
        },
        {
          "output_type": "display_data",
          "data": {
            "text/plain": [
              "<Figure size 640x480 with 1 Axes>"
            ],
            "image/png": "[encoded data removed]"
          },
          "metadata": {}
        }
      ]
    },
    {
      "cell_type": "markdown",
      "source": [
        "### Evaluating results\n",
        "\n",
        "To see how well the network performs on different categories, we will create a confusion matrix, indicating for every actual language (rows) which language the network guesses (columns). To calculate the confusion matrix a bunch of samples are run through the network with `evaluate()`, which is the same as `train()` minus the backprop."
      ],
      "metadata": {
        "id": "tcNfw5gf8FoL"
      }
    },
    {
      "cell_type": "code",
      "source": [
        "# keep track of correct guesses in confusion matrix\n",
        "confusion = torch.zeros(n_categories, n_categories)\n",
        "n_confusion = 10_000\n",
        "\n",
        "# evaluate - return an output given a line\n",
        "def evaluate(line_tensor):\n",
        "  hidden = rnn.initHidden()\n",
        "\n",
        "  for i in range(line_tensor.size()[0]):\n",
        "    output, hidden = rnn(line_tensor[i], hidden)\n",
        "\n",
        "  return output"
      ],
      "metadata": {
        "id": "toCYPJEd68JS"
      },
      "execution_count": 43,
      "outputs": []
    },
    {
      "cell_type": "code",
      "source": [
        "# go thru several examples and record which are correct\n",
        "for i in range(n_confusion):\n",
        "  cat, line, cat_tensor, line_tensor = randomTrainingExample()\n",
        "  output = evaluate(line_tensor)\n",
        "  guess, guess_i = categoryFromOutput(output)\n",
        "  cat_i = all_categories.index(cat)\n",
        "  confusion[cat_i][guess_i] += 1\n",
        "\n",
        "# normalize by diving every row by its sum\n",
        "for i in range(n_categories):\n",
        "  confusion[i] = confusion[i] / confusion[i].sum()"
      ],
      "metadata": {
        "id": "uzmS6y0F8rz_"
      },
      "execution_count": 44,
      "outputs": []
    },
    {
      "cell_type": "code",
      "source": [
        "import matplotlib.ticker as ticker\n",
        "# setup the plot\n",
        "fig = plt.figure()\n",
        "ax = fig.add_subplot(111)\n",
        "cax = ax.matshow(confusion.numpy())\n",
        "fig.colorbar(cax)\n",
        "\n",
        "# setup axes\n",
        "ax.set_xticklabels([''] + all_categories, rotation=90)\n",
        "ax.set_yticklabels([''] + all_categories)\n",
        "\n",
        "# force label at every tick\n",
        "ax.xaxis.set_major_locator(ticker.MultipleLocator(1))\n",
        "ax.yaxis.set_major_locator(ticker.MultipleLocator(1))\n",
        "\n",
        "plt.show()\n",
        "#"
      ],
      "metadata": {
        "colab": {
          "base_uri": "https://localhost:8080/",
          "height": 579
        },
        "id": "oNTU3Mm49HnD",
        "outputId": "06142338-09e5-448e-b5e6-59b8750bc469"
      },
      "execution_count": 46,
      "outputs": [
        {
          "output_type": "stream",
          "name": "stderr",
          "text": [
            "<ipython-input-46-adb528c4612b>:9: UserWarning: FixedFormatter should only be used together with FixedLocator\n",
            "  ax.set_xticklabels([''] + all_categories, rotation=90)\n",
            "<ipython-input-46-adb528c4612b>:10: UserWarning: FixedFormatter should only be used together with FixedLocator\n",
            "  ax.set_yticklabels([''] + all_categories)\n"
          ]
        },
        {
          "output_type": "display_data",
          "data": {
            "text/plain": [
              "<Figure size 640x480 with 2 Axes>"
            ],
            "image/png": "[encoded data removed]"
          },
          "metadata": {}
        }
      ]
    },
    {
      "cell_type": "code",
      "source": [
        "## run on user input\n",
        "def predict(input_line, n_predictions=3):\n",
        "  print(f\"\\n> {input_line}\")\n",
        "\n",
        "  with torch.no_grad():\n",
        "    output = evaluate(lineToTensor(input_line))\n",
        "\n",
        "    # get top N categories\n",
        "    topv, topi = output.topk(n_predictions, 1, True)\n",
        "    predictions = []\n",
        "\n",
        "    for i in range(n_predictions):\n",
        "      value = topv[0][i].item()\n",
        "      cat_index = topi[0][i].item()\n",
        "      print(f\"{value:.4f} - {all_categories[cat_index]}\")\n",
        "      predictions.append([value, all_categories[cat_index]])"
      ],
      "metadata": {
        "id": "9hHcLuYZ9fUh"
      },
      "execution_count": 47,
      "outputs": []
    },
    {
      "cell_type": "code",
      "source": [
        "# predict some names\n",
        "predict('Dostoevesky')\n",
        "predict('Jackson')\n",
        "predict('Satoshi')"
      ],
      "metadata": {
        "colab": {
          "base_uri": "https://localhost:8080/"
        },
        "id": "5Lin1Nul-iTT",
        "outputId": "b2f8046b-bdf5-4240-fe34-72cacee59f58"
      },
      "execution_count": 48,
      "outputs": [
        {
          "output_type": "stream",
          "name": "stdout",
          "text": [
            "\n",
            "> Dostoevesky\n",
            "-0.5052 - Russian\n",
            "-1.6424 - Czech\n",
            "-1.6663 - Polish\n",
            "\n",
            "> Jackson\n",
            "-0.1740 - Scottish\n",
            "-2.1531 - Russian\n",
            "-3.4531 - English\n",
            "\n",
            "> Satoshi\n",
            "-0.3589 - Japanese\n",
            "-1.4165 - Polish\n",
            "-3.2808 - Arabic\n"
          ]
        }
      ]
    },
    {
      "cell_type": "markdown",
      "source": [
        "Source: PyTorch tutorials https://pytorch.org/tutorials/intermediate/char_rnn_classification_tutorial.html"
      ],
      "metadata": {
        "id": "uLmNCr5X_Cm1"
      }
    },
    {
      "cell_type": "code",
      "source": [],
      "metadata": {
        "id": "9RrSApQg-q2s"
      },
      "execution_count": null,
      "outputs": []
    }
  ]
}