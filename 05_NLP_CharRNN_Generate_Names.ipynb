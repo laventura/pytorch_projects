{
  "nbformat": 4,
  "nbformat_minor": 0,
  "metadata": {
    "colab": {
      "provenance": [],
      "authorship_tag": "ABX9TyPajmuF0q0rQyrZ1wOAYyu1",
      "include_colab_link": true
    },
    "kernelspec": {
      "name": "python3",
      "display_name": "Python 3"
    },
    "language_info": {
      "name": "python"
    }
  },
  "cells": [
    {
      "cell_type": "markdown",
      "metadata": {
        "id": "view-in-github",
        "colab_type": "text"
      },
      "source": [
        "<a href=\"https://colab.research.google.com/github/laventura/pytorch_projects/blob/main/05_NLP_CharRNN_Generate_Names.ipynb\" target=\"_parent\"><img src=\"https://colab.research.google.com/assets/colab-badge.svg\" alt=\"Open In Colab\"/></a>"
      ]
    },
    {
      "cell_type": "markdown",
      "source": [
        "# CharRNN - Generator\n",
        "\n",
        "In the first tutorial we used a RNN to classify names into their language of origin. This time we’ll turn around and generate names from languages.\n",
        "\n",
        "```\n",
        "\n",
        "> python sample.py Russian RUS\n",
        "Rovakov\n",
        "Uantov\n",
        "Shavakov\n",
        "\n",
        "> python sample.py German GER\n",
        "Gerren\n",
        "Ereng\n",
        "Rosher\n",
        "\n",
        "> python sample.py Spanish SPA\n",
        "Salla\n",
        "Parer\n",
        "Allan\n",
        "\n",
        "> python sample.py Chinese CHI\n",
        "Chan\n",
        "Hang\n",
        "Iun\n",
        "\n",
        "```\n",
        "\n",
        "We are still hand-crafting a small RNN with a few linear layers. The big difference is instead of predicting a category after reading in all the letters of a name, we input a category and output one letter at a time. Recurrently predicting characters to form language (this could also be done with words or other higher order constructs) is often referred to as a “language model”."
      ],
      "metadata": {
        "id": "QWa8tPC4I0W9"
      }
    },
    {
      "cell_type": "code",
      "execution_count": 1,
      "metadata": {
        "id": "OgHw5iDAInZw"
      },
      "outputs": [],
      "source": [
        "## Download dataset\n",
        "import requests\n",
        "import zipfile\n",
        "import os\n",
        "\n",
        "def download_and_unzip_data(url, target_dir='.'):\n",
        "    # Create the target directory if it doesn't exist\n",
        "    os.makedirs(target_dir, exist_ok=True)\n",
        "\n",
        "    # Download the file\n",
        "    print(f\"Downloading URL: {url}\")\n",
        "    response = requests.get(url)\n",
        "    if response.status_code == 200:\n",
        "        # Get the filename from the URL\n",
        "        filename = url.split('/')[-1]\n",
        "        filepath = os.path.join(target_dir, filename)\n",
        "\n",
        "        # Save the file\n",
        "        with open(filepath, 'wb') as f:\n",
        "            f.write(response.content)\n",
        "        print(f\"Downloaded {filename}\")\n",
        "\n",
        "        # Unzip the file\n",
        "        with zipfile.ZipFile(filepath, 'r') as zip_ref:\n",
        "            zip_ref.extractall(target_dir)\n",
        "        print(f\"Extracted contents to {target_dir}\")\n",
        "\n",
        "        # Remove the zip file\n",
        "        os.remove(filepath)\n",
        "        print(f\"Removed {filename}\")\n",
        "    else:\n",
        "        print(f\"Failed to download the file. Status code: {response.status_code}\")"
      ]
    },
    {
      "cell_type": "code",
      "source": [
        "dataset_url = \"https://download.pytorch.org/tutorial/data.zip\"\n",
        "download_and_unzip_data(dataset_url)"
      ],
      "metadata": {
        "colab": {
          "base_uri": "https://localhost:8080/"
        },
        "id": "qVok1LG2JJGK",
        "outputId": "19135982-4672-4a9f-dcad-478b60bec33e"
      },
      "execution_count": 2,
      "outputs": [
        {
          "output_type": "stream",
          "name": "stdout",
          "text": [
            "Downloading URL: https://download.pytorch.org/tutorial/data.zip\n",
            "Downloaded data.zip\n",
            "Extracted contents to .\n",
            "Removed data.zip\n"
          ]
        }
      ]
    },
    {
      "cell_type": "code",
      "source": [
        "from io import open\n",
        "import glob\n",
        "import os\n",
        "\n",
        "import unicodedata\n",
        "import string\n",
        "\n",
        "def findFiles(path): return glob.glob(path)\n",
        "\n",
        "all_letters = string.ascii_letters + \" .,;'-\"\n",
        "n_letters = len(all_letters) + 1 # Plus EOS marker\n",
        "\n",
        "# Turn a Unicode string to plain ASCII, thanks to https://stackoverflow.com/a/518232/2809427\n",
        "def unicodeToAscii(s):\n",
        "    return ''.join(\n",
        "        c for c in unicodedata.normalize('NFD', s)\n",
        "        if unicodedata.category(c) != 'Mn'\n",
        "        and c in all_letters\n",
        "    )\n",
        "\n",
        "# Read a file and split into lines\n",
        "def readLines(filename):\n",
        "    with open(filename, encoding='utf-8') as some_file:\n",
        "        return [unicodeToAscii(line.strip()) for line in some_file]\n",
        "\n",
        "# Build the category_lines dictionary, a list of lines per category\n",
        "category_lines = {}\n",
        "all_categories = []\n",
        "for filename in findFiles('data/names/*.txt'):\n",
        "    category = os.path.splitext(os.path.basename(filename))[0]\n",
        "    all_categories.append(category)\n",
        "    lines = readLines(filename)\n",
        "    category_lines[category] = lines\n",
        "\n",
        "n_categories = len(all_categories)\n",
        "\n",
        "if n_categories == 0:\n",
        "    raise RuntimeError('Data not found. Make sure that you downloaded data '\n",
        "        'from https://download.pytorch.org/tutorial/data.zip and extract it to '\n",
        "        'the current directory.')\n",
        "\n",
        "print('# categories:', n_categories, all_categories)\n",
        "print(unicodeToAscii(\"O'Néàl\"))"
      ],
      "metadata": {
        "colab": {
          "base_uri": "https://localhost:8080/"
        },
        "id": "zemYT0DVJLoK",
        "outputId": "33a55e4d-feab-4cb8-eb10-872d48bc0e29"
      },
      "execution_count": 4,
      "outputs": [
        {
          "output_type": "stream",
          "name": "stdout",
          "text": [
            "# categories: 18 ['Dutch', 'Korean', 'Scottish', 'German', 'Spanish', 'Vietnamese', 'Chinese', 'Arabic', 'Russian', 'Polish', 'Greek', 'French', 'Italian', 'Portuguese', 'Japanese', 'Czech', 'Irish', 'English']\n",
            "O'Neal\n"
          ]
        }
      ]
    },
    {
      "cell_type": "markdown",
      "source": [
        "## Creating an RNN -\n",
        "\n",
        "Extending previous RNN network, by adding  an extra argument for the category tensor, which is concatenated along with the others. The category tensor is a one-hot vector just like the letter input.\n",
        "\n",
        "We will interpret the output as the probability of the next letter. When sampling, the most likely output letter is used as the next input letter.\n",
        "\n",
        "I added a second linear layer `o2o` (after combining hidden and output) to give it more muscle to work with. There’s also a dropout layer, which randomly zeros parts of its input with a given probability (here 0.1) and is usually used to fuzz inputs to prevent overfitting. Here we’re using it towards the end of the network to purposely add some chaos and increase sampling variety.\n",
        "\n",
        "![image.png](data:image/png;base64,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)"
      ],
      "metadata": {
        "id": "fCE6IMT7Kphs"
      }
    },
    {
      "cell_type": "code",
      "source": [
        "import torch\n",
        "import torch.nn as nn\n",
        "import math\n",
        "import random\n",
        "\n",
        "class RNN(nn.Module):\n",
        "    def __init__(self, input_size, hidden_size, output_size):\n",
        "        super(RNN, self).__init__()\n",
        "        self.hidden_size = hidden_size\n",
        "\n",
        "        self.i2h = nn.Linear(n_categories + input_size + hidden_size, hidden_size)\n",
        "        self.i2o = nn.Linear(n_categories + input_size + hidden_size, output_size)\n",
        "        self.o2o = nn.Linear(hidden_size + output_size, output_size)\n",
        "        self.dropout = nn.Dropout(0.1)\n",
        "        self.softmax = nn.LogSoftmax(dim=1)\n",
        "\n",
        "    def forward(self, category, input, hidden):\n",
        "        input_combined = torch.cat((category, input, hidden), 1)\n",
        "        hidden = self.i2h(input_combined)\n",
        "        output = self.i2o(input_combined)\n",
        "        output_combined = torch.cat((hidden, output), 1)\n",
        "        output = self.o2o(output_combined)\n",
        "        output = self.dropout(output)\n",
        "        output = self.softmax(output)\n",
        "        return output, hidden\n",
        "\n",
        "    def initHidden(self):\n",
        "        return torch.zeros(1, self.hidden_size)"
      ],
      "metadata": {
        "id": "8712PZKuJnts"
      },
      "execution_count": 5,
      "outputs": []
    },
    {
      "cell_type": "code",
      "source": [
        "# Random item from a list\n",
        "def randomChoice(l):\n",
        "    return l[random.randint(0, len(l) - 1)]\n",
        "\n",
        "# Get a random category and random line from that category\n",
        "def randomTrainingPair():\n",
        "    category = randomChoice(all_categories)\n",
        "    line = randomChoice(category_lines[category])\n",
        "    return category, line"
      ],
      "metadata": {
        "id": "I5E3hl6WLWSm"
      },
      "execution_count": 6,
      "outputs": []
    },
    {
      "cell_type": "markdown",
      "source": [
        "#### Training\n",
        "\n",
        "For each timestep (that is, for each letter in a training word) the inputs of the network will be `(category, current letter, hidden state)` and the outputs will be `(next letter, next hidden state)`. So for each training set, we’ll need the category, a set of input letters, and a set of output/target letters.\n",
        "\n",
        "Since we are predicting the next letter from the current letter for each timestep, the letter pairs are groups of consecutive letters from the line - e.g. for `\"ABCD<EOS>\"` we would create (“A”, “B”), (“B”, “C”), (“C”, “D”), (“D”, “EOS”).\n",
        "\n",
        "The category tensor is a one-hot tensor of size `<1 x n_categories>`. When training we feed it to the network at every timestep - this is a design choice, it could have been included as part of initial hidden state or some other strategy."
      ],
      "metadata": {
        "id": "3oK2B730MTGn"
      }
    },
    {
      "cell_type": "code",
      "source": [
        "# One-hot vector for category\n",
        "def categoryTensor(category):\n",
        "    li = all_categories.index(category)\n",
        "    tensor = torch.zeros(1, n_categories)\n",
        "    tensor[0][li] = 1\n",
        "    return tensor\n",
        "\n",
        "# One-hot matrix of first to last letters (not including EOS) for input\n",
        "def inputTensor(line):\n",
        "    tensor = torch.zeros(len(line), 1, n_letters)\n",
        "    for li in range(len(line)):\n",
        "        letter = line[li]\n",
        "        tensor[li][0][all_letters.find(letter)] = 1\n",
        "    return tensor\n",
        "\n",
        "# ``LongTensor`` of second letter to end (EOS) for target\n",
        "def targetTensor(line):\n",
        "    letter_indexes = [all_letters.find(line[li]) for li in range(1, len(line))]\n",
        "    letter_indexes.append(n_letters - 1) # EOS\n",
        "    return torch.LongTensor(letter_indexes)\n"
      ],
      "metadata": {
        "id": "jal5dq3wMJKq"
      },
      "execution_count": 7,
      "outputs": []
    },
    {
      "cell_type": "code",
      "source": [
        "# Make category, input, and target tensors from a random category, line pair\n",
        "def randomTrainingExample():\n",
        "    category, line = randomTrainingPair()  # fetch a random (cat, line)\n",
        "    category_tensor = categoryTensor(category)\n",
        "    input_line_tensor = inputTensor(line)\n",
        "    target_line_tensor = targetTensor(line)\n",
        "    # convert to (cat_tensor, line_tensor, target_line_tensor)\n",
        "    return category_tensor, input_line_tensor, target_line_tensor"
      ],
      "metadata": {
        "id": "1ZFKLET2M3e1"
      },
      "execution_count": 8,
      "outputs": []
    },
    {
      "cell_type": "markdown",
      "source": [
        "### Training the network\n",
        "\n",
        "\n",
        "In contrast to classification, where only the last output is used, we are making a prediction at every step, so we are calculating loss at every step.\n",
        "\n",
        "The magic of autograd allows you to simply sum these losses at each step and call backward at the end.\n"
      ],
      "metadata": {
        "id": "uduzfdhUNnUE"
      }
    },
    {
      "cell_type": "code",
      "source": [
        "criterion = nn.NLLLoss()\n",
        "\n",
        "learning_rate = 0.0005\n",
        "\n",
        "def train(category_tensor, input_line_tensor, target_line_tensor):\n",
        "    target_line_tensor.unsqueeze_(-1)\n",
        "    hidden = rnn.initHidden()\n",
        "\n",
        "    rnn.zero_grad()\n",
        "\n",
        "    loss = torch.Tensor([0]) # you can also just simply use ``loss = 0``\n",
        "\n",
        "    for i in range(input_line_tensor.size(0)):\n",
        "        output, hidden = rnn(category_tensor, input_line_tensor[i], hidden)\n",
        "        l = criterion(output, target_line_tensor[i])\n",
        "        loss += l\n",
        "\n",
        "    loss.backward()\n",
        "\n",
        "    for p in rnn.parameters():\n",
        "        p.data.add_(p.grad.data, alpha=-learning_rate)\n",
        "\n",
        "    return output, loss.item() / input_line_tensor.size(0)"
      ],
      "metadata": {
        "id": "LxbtVVwRNj5y"
      },
      "execution_count": 9,
      "outputs": []
    },
    {
      "cell_type": "code",
      "source": [
        "import time\n",
        "import math\n",
        "\n",
        "def timeSince(since):\n",
        "    now = time.time()\n",
        "    s = now - since\n",
        "    m = math.floor(s / 60)\n",
        "    s -= m * 60\n",
        "    return '%dm %ds' % (m, s)"
      ],
      "metadata": {
        "id": "8U_SgtopOA-I"
      },
      "execution_count": 10,
      "outputs": []
    },
    {
      "cell_type": "code",
      "source": [
        "rnn = RNN(n_letters, 128, n_letters)\n",
        "\n",
        "n_iters = 100_000\n",
        "print_every = 5000\n",
        "plot_every = 500\n",
        "all_losses = []\n",
        "total_loss = 0 # Reset every ``plot_every`` ``iters``\n",
        "\n",
        "start = time.time()\n",
        "\n",
        "for iter in range(1, n_iters + 1):\n",
        "    output, loss = train(*randomTrainingExample())\n",
        "    total_loss += loss\n",
        "\n",
        "    if iter % print_every == 0:\n",
        "        print(f\"{timeSince(start)} - {iter:,<10} {iter / n_iters * 100}% - {loss:<.5f})\")\n",
        "\n",
        "    if iter % plot_every == 0:\n",
        "        all_losses.append(total_loss / plot_every)\n",
        "        total_loss = 0"
      ],
      "metadata": {
        "colab": {
          "base_uri": "https://localhost:8080/"
        },
        "id": "20ISzmRUOD8G",
        "outputId": "a87580a9-601e-4b36-b8b8-a86a16842f5d"
      },
      "execution_count": 11,
      "outputs": [
        {
          "output_type": "stream",
          "name": "stdout",
          "text": [
            "0m 18s - 5000       5.0% - 2.86472)\n",
            "0m 37s - 10000      10.0% - 3.11903)\n",
            "0m 55s - 15000      15.0% - 2.57539)\n",
            "1m 15s - 20000      20.0% - 2.30106)\n",
            "1m 40s - 25000      25.0% - 2.57926)\n",
            "2m 0s - 30000      30.0% - 3.03622)\n",
            "2m 18s - 35000      35.0% - 2.32359)\n",
            "2m 37s - 40000      40.0% - 2.43739)\n",
            "2m 57s - 45000      45.0% - 1.89270)\n",
            "3m 15s - 50000      50.0% - 2.63295)\n",
            "3m 33s - 55000      55.00000000000001% - 3.66257)\n",
            "3m 52s - 60000      60.0% - 2.04590)\n",
            "4m 10s - 65000      65.0% - 2.53854)\n",
            "4m 29s - 70000      70.0% - 1.74268)\n",
            "4m 47s - 75000      75.0% - 3.42172)\n",
            "5m 8s - 80000      80.0% - 2.73091)\n",
            "5m 26s - 85000      85.0% - 2.54221)\n",
            "5m 44s - 90000      90.0% - 2.44239)\n",
            "6m 6s - 95000      95.0% - 2.42573)\n",
            "6m 24s - 100000     100.0% - 2.40745)\n"
          ]
        }
      ]
    },
    {
      "cell_type": "code",
      "source": [
        "import matplotlib.pyplot as plt\n",
        "\n",
        "plt.figure()\n",
        "plt.plot(all_losses)"
      ],
      "metadata": {
        "colab": {
          "base_uri": "https://localhost:8080/",
          "height": 448
        },
        "id": "W3pooFDjO0bB",
        "outputId": "7becd9f9-90b8-4a54-fb62-6695c8d40c40"
      },
      "execution_count": 12,
      "outputs": [
        {
          "output_type": "execute_result",
          "data": {
            "text/plain": [
              "[<matplotlib.lines.Line2D at 0x7f5653da6560>]"
            ]
          },
          "metadata": {},
          "execution_count": 12
        },
        {
          "output_type": "display_data",
          "data": {
            "text/plain": [
              "<Figure size 640x480 with 1 Axes>"
            ],
            "image/png": "[encoded data removed]"
          },
          "metadata": {}
        }
      ]
    },
    {
      "cell_type": "markdown",
      "source": [
        "## Sampling the Network\n",
        "\n",
        "To sample we give the network a letter and ask what the next one is, feed that in as the next letter, and repeat until the EOS token.\n",
        "\n",
        "    Create tensors for input category, starting letter, and empty hidden state\n",
        "\n",
        "    Create a string output_name with the starting letter\n",
        "\n",
        "    Up to a maximum output length,\n",
        "\n",
        "        Feed the current letter to the network\n",
        "\n",
        "        Get the next letter from highest output, and next hidden state\n",
        "\n",
        "        If the letter is EOS, stop here\n",
        "\n",
        "        If a regular letter, add to output_name and continue\n",
        "\n",
        "    Return the final name\n"
      ],
      "metadata": {
        "id": "vzYK6fOKQeu_"
      }
    },
    {
      "cell_type": "code",
      "source": [
        "max_length = 20\n",
        "\n",
        "# Sample from a category and starting letter\n",
        "def sample(category, start_letter='A'):\n",
        "    with torch.no_grad():  # no need to track history in sampling\n",
        "        category_tensor = categoryTensor(category)\n",
        "        input = inputTensor(start_letter)\n",
        "        hidden = rnn.initHidden()\n",
        "\n",
        "        output_name = start_letter\n",
        "\n",
        "        for i in range(max_length):\n",
        "            output, hidden = rnn(category_tensor, input[0], hidden)\n",
        "            topv, topi = output.topk(1)\n",
        "            topi = topi[0][0]\n",
        "            if topi == n_letters - 1:\n",
        "                break\n",
        "            else:\n",
        "                letter = all_letters[topi]\n",
        "                output_name += letter\n",
        "            input = inputTensor(letter)\n",
        "\n",
        "        return output_name\n",
        "\n",
        "# Get multiple samples from one category and multiple starting letters\n",
        "def samples(category, start_letters='ABC'):\n",
        "    for start_letter in start_letters:\n",
        "        print(sample(category, start_letter))\n",
        "\n",
        "samples('Russian', 'RUS')\n",
        "\n",
        "samples('German', 'GER')\n",
        "\n",
        "samples('Spanish', 'SPA')\n",
        "\n",
        "samples('Chinese', 'CHI')"
      ],
      "metadata": {
        "colab": {
          "base_uri": "https://localhost:8080/"
        },
        "id": "eCe2xZCbPIBn",
        "outputId": "c57f74d5-5c09-4bff-aa2d-e87af263f827"
      },
      "execution_count": 13,
      "outputs": [
        {
          "output_type": "stream",
          "name": "stdout",
          "text": [
            "Roshino\n",
            "Uantono\n",
            "Sanovako\n",
            "Ganger\n",
            "Eren\n",
            "Rouner\n",
            "Sana\n",
            "Pana\n",
            "Allana\n",
            "Chan\n",
            "Han\n",
            "Iun\n"
          ]
        }
      ]
    },
    {
      "cell_type": "code",
      "source": [],
      "metadata": {
        "id": "Yhuqe_imQoZ0"
      },
      "execution_count": null,
      "outputs": []
    }
  ]
}